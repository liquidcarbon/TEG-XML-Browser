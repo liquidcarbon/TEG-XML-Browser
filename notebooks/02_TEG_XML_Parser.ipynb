{
 "cells": [
  {
   "attachments": {},
   "cell_type": "markdown",
   "metadata": {},
   "source": [
    "# 2. TEG XML Parser\n",
    "\n",
    "> Converting XML data to JSON from factory and customer files"
   ]
  },
  {
   "cell_type": "code",
   "execution_count": 1,
   "metadata": {},
   "outputs": [
    {
     "data": {
      "text/plain": [
       "'created: 2023-04-24 17:44'"
      ]
     },
     "execution_count": 1,
     "metadata": {},
     "output_type": "execute_result"
    }
   ],
   "source": [
    "#| code-fold: true\n",
    "from datetime import datetime; datetime.now().strftime(\"created: %F %H:%M\")"
   ]
  },
  {
   "cell_type": "code",
   "execution_count": 2,
   "metadata": {},
   "outputs": [],
   "source": [
    "#| hide\n",
    "%load_ext autoreload\n",
    "%autoreload 2"
   ]
  },
  {
   "cell_type": "code",
   "execution_count": 3,
   "metadata": {},
   "outputs": [],
   "source": [
    "#| default_exp io"
   ]
  },
  {
   "cell_type": "code",
   "execution_count": 4,
   "metadata": {
    "vscode": {
     "languageId": "python"
    }
   },
   "outputs": [],
   "source": [
    "#| hide\n",
    "from fastcore.test import *\n",
    "from nbdev.showdoc import *"
   ]
  },
  {
   "cell_type": "code",
   "execution_count": 5,
   "metadata": {},
   "outputs": [],
   "source": [
    "#| export\n",
    "from collections import abc\n",
    "from loguru import logger as log\n",
    "import ast\n",
    "import json\n",
    "import os\n",
    "import re\n",
    "import sys\n",
    "import xmltodict "
   ]
  },
  {
   "cell_type": "code",
   "execution_count": 6,
   "metadata": {},
   "outputs": [
    {
     "name": "stdout",
     "output_type": "stream",
     "text": [
      "2023-04-24@17:44:54.636|DEBUG|<module>|Logger started\n"
     ]
    }
   ],
   "source": [
    "#| hide\n",
    "log.remove()\n",
    "log.add(sys.stdout, format=\"{time:YYYY-MM-DD@HH:mm:ss.SSS}|{level}|{function}|{message}\")\n",
    "log.debug(\"Logger started\")"
   ]
  },
  {
   "cell_type": "code",
   "execution_count": 7,
   "metadata": {},
   "outputs": [],
   "source": [
    "#| exports\n",
    "class TEGXMLProcessor:\n",
    "    \"\"\"Pipeline for TEG6s XML processing.\"\"\"\n",
    "\n",
    "    ROOT_TAG = bytes(\"Cartridge\", encoding=\"utf-8\")  # assumption that this will be true\n",
    "  \n",
    "    def __init__(\n",
    "        self,\n",
    "        filepath: str  # path to input XML file\n",
    "    ):\n",
    "        self.filepath = filepath\n",
    "        self.read_xml()\n",
    "\n",
    "    def read_xml(self):\n",
    "        \"\"\"Read raw contents of the file.\"\"\"\n",
    "        try:\n",
    "            with open(self.filepath, \"rb\") as f:\n",
    "                self.contents = f.read()\n",
    "            self.raw_length = len(self.contents)\n",
    "            log.info(f\"Read {self.raw_length:,d} bytes of raw XML data\")\n",
    "        except Exception as e:\n",
    "            log.error(f\"unable to read file: {e}\")\n",
    "\n",
    "    def find_xml_offsets(self):\n",
    "        \"\"\"Scans for XML fragments.\"\"\"\n",
    "        xml_open_bytes = [x.start() for x in re.finditer(b\"<\\?xml\", self.contents)]\n",
    "        xml_close_bytes = [x.end() for x in re.finditer(self.ROOT_TAG+b\">\", self.contents)]\n",
    "        if len(xml_open_bytes) != len(xml_close_bytes):\n",
    "            log.error(\"XML heads not equal XML tails\")\n",
    "        else:\n",
    "            xml_offsets = [(start, end) for start, end in zip(xml_open_bytes, xml_close_bytes)]\n",
    "            log.info(f\"found {len(xml_offsets)} XML fragment(s)\")\n",
    "            return xml_offsets"
   ]
  },
  {
   "cell_type": "markdown",
   "metadata": {},
   "source": [
    "## Factory Files"
   ]
  },
  {
   "cell_type": "code",
   "execution_count": 8,
   "metadata": {},
   "outputs": [
    {
     "name": "stdout",
     "output_type": "stream",
     "text": [
      "2023-04-24@17:44:54.706|INFO|read_xml|Read 788,588 bytes of raw XML data\n",
      "2023-04-24@17:44:54.851|INFO|<module>|XML parsed successfully\n"
     ]
    }
   ],
   "source": [
    "base_folder = \"../../hae/random_factory_XML_48001_53286/\"\n",
    "xml_file = os.path.join(base_folder, os.listdir(base_folder)[0])\n",
    "tegxml = TEGXMLProcessor(xml_file)\n",
    "\n",
    "try:\n",
    "    d = xmltodict.parse(tegxml.contents)\n",
    "    log.info(\"XML parsed successfully\")\n",
    "except:\n",
    "    log.error(\"Nope\")"
   ]
  },
  {
   "cell_type": "markdown",
   "metadata": {},
   "source": [
    "## Customer Files\n",
    "There are two large XML fragments of similar structure.  All sections except `CartridgeResult` appear to be identical."
   ]
  },
  {
   "cell_type": "code",
   "execution_count": 9,
   "metadata": {},
   "outputs": [
    {
     "name": "stdout",
     "output_type": "stream",
     "text": [
      "2023-04-24@17:44:54.880|INFO|read_xml|Read 219,361 bytes of raw XML data\n",
      "2023-04-24@17:44:54.882|INFO|find_xml_offsets|found 2 XML fragment(s)\n"
     ]
    },
    {
     "data": {
      "text/plain": [
       "[(120, 11953), (11972, 219171)]"
      ]
     },
     "execution_count": 9,
     "metadata": {},
     "output_type": "execute_result"
    }
   ],
   "source": [
    "base_folder = \"../../hae/T1-19B-Cartridges/\"\n",
    "xml_file = [f for f in os.listdir(base_folder) if f.endswith(\".xml\")][0]\n",
    "xml_file = os.path.join(base_folder, xml_file)\n",
    "\n",
    "tegxml = TEGXMLProcessor(xml_file)\n",
    "tegxml.find_xml_offsets()"
   ]
  },
  {
   "cell_type": "code",
   "execution_count": 10,
   "metadata": {},
   "outputs": [],
   "source": [
    "d = {}\n",
    "for i, (x,y) in enumerate([(120, 11953), (11972, 219171)]):\n",
    "    d[i] = xmltodict.parse(\n",
    "        tegxml.contents[x:y],\n",
    "        attr_prefix=\"\",\n",
    "        # postprocessor=xml_unstringify,\n",
    "    )['Cartridge']"
   ]
  },
  {
   "cell_type": "code",
   "execution_count": 11,
   "metadata": {},
   "outputs": [
    {
     "name": "stdout",
     "output_type": "stream",
     "text": [
      "True xmlns:xsi\n",
      "True xmlns:xsd\n",
      "True SchemaVersion\n",
      "True AllowTemperatureChange\n",
      "True BarcodeExpirationDate\n",
      "True CalculatedExpirationDate\n",
      "True CartridgeName\n",
      "True SampleType\n",
      "True TestType\n",
      "True DisplayTemplate\n",
      "True MicrofluidicsScriptName\n",
      "True MicrofluidicsScriptVersion\n",
      "True IsDiagnostics\n",
      "True ExecutedTest\n",
      "True CartridgeID\n",
      "True CartridgeRevision\n",
      "True ManufacturingData\n",
      "True CartridgeTests\n",
      "True ExtraCalculations\n",
      "False CartridgeResult\n"
     ]
    }
   ],
   "source": [
    "for k in d[0].keys():\n",
    "    print(d[0][k] == d[1][k], k)"
   ]
  },
  {
   "cell_type": "code",
   "execution_count": 12,
   "metadata": {
    "vscode": {
     "languageId": "python"
    }
   },
   "outputs": [],
   "source": [
    "#| hide\n",
    "import nbdev; nbdev.nbdev_export()"
   ]
  }
 ],
 "metadata": {
  "kernelspec": {
   "display_name": "Python 3 (ipykernel)",
   "language": "python",
   "name": "python3"
  },
  "language_info": {
   "codemirror_mode": {
    "name": "ipython",
    "version": 3
   },
   "file_extension": ".py",
   "mimetype": "text/x-python",
   "name": "python",
   "nbconvert_exporter": "python",
   "pygments_lexer": "ipython3",
   "version": "3.10.9"
  }
 },
 "nbformat": 4,
 "nbformat_minor": 4
}
