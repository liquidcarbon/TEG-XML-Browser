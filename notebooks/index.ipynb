{
 "cells": [
  {
   "cell_type": "markdown",
   "metadata": {},
   "source": [
    "# TEG-XML-Browser\n",
    "\n",
    "> Thermoelastography data browser"
   ]
  },
  {
   "attachments": {},
   "cell_type": "markdown",
   "metadata": {},
   "source": [
    "```{mermaid}\n",
    "flowchart LR\n",
    "title[XML Parsing Workflow]\n",
    "  A[SharePoint XML file]-->|Office365 API|C(XML contents)\n",
    "  B[local XML file]-->C\n",
    "  C-->|xmltodict|D(python\\ndict)\n",
    "  D --> E{separate all lists}\n",
    "  E --> F[JSON run-level metadata]\n",
    "  E --> G[JSON lists with run results]\n",
    "```"
   ]
  },
  {
   "attachments": {},
   "cell_type": "markdown",
   "metadata": {},
   "source": [
    "## Documentation (to be filled)"
   ]
  },
  {
   "attachments": {},
   "cell_type": "markdown",
   "metadata": {},
   "source": [
    "Nothing to see on this page yet.  Browse the links on the left."
   ]
  }
 ],
 "metadata": {
  "kernelspec": {
   "display_name": "Python 3 (ipykernel)",
   "language": "python",
   "name": "python3"
  }
 },
 "nbformat": 4,
 "nbformat_minor": 4
}
