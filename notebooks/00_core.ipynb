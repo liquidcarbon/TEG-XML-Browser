{
 "cells": [
  {
   "attachments": {},
   "cell_type": "markdown",
   "metadata": {},
   "source": [
    "# core\n",
    "\n",
    "> Reading XML inputs and writing JSON outputs."
   ]
  },
  {
   "cell_type": "code",
   "execution_count": 1,
   "metadata": {
    "vscode": {
     "languageId": "python"
    }
   },
   "outputs": [],
   "source": [
    "#| default_exp core"
   ]
  },
  {
   "cell_type": "code",
   "execution_count": 2,
   "metadata": {
    "vscode": {
     "languageId": "python"
    }
   },
   "outputs": [],
   "source": [
    "#| hide\n",
    "%load_ext autoreload\n",
    "%autoreload 2"
   ]
  },
  {
   "cell_type": "code",
   "execution_count": 3,
   "metadata": {
    "vscode": {
     "languageId": "python"
    }
   },
   "outputs": [],
   "source": [
    "#| hide\n",
    "from fastcore.test import *\n",
    "from nbdev.showdoc import *"
   ]
  },
  {
   "attachments": {},
   "cell_type": "markdown",
   "metadata": {},
   "source": [
    "## XML\n",
    "XML is a markup language that is used to store and transport data. It is both human-readable and machine-readable.  It is flexible, allowing to define new tags and attributes as needed.  It is portable and platform-independent, and can be read as plain text or in a variety of editors and parsers.\n",
    "\n",
    "However, it's verbose, complex, hard to debug, and not queryable.  The goal of this project is to convert XMLs to (semi)relational data formats that can support data warehousing and reporting solutions.\n",
    "\n",
    "In this module, a special XML parser is created to create JSON outputs.\n"
   ]
  },
  {
   "attachments": {},
   "cell_type": "markdown",
   "metadata": {},
   "source": [
    "```{mermaid}\n",
    "flowchart LR\n",
    "title[XML Parsing Workflow]\n",
    "  A[XML file] --> B(python\\ndict)\n",
    "  B --> C{remove all lists}\n",
    "  C --> D[JSON run-level metadata]\n",
    "  C --> E[JSON lists with run results]\n",
    "\n",
    "```"
   ]
  },
  {
   "attachments": {},
   "cell_type": "markdown",
   "metadata": {},
   "source": [
    "## XML Example: Mass-Spectrometry\n",
    "\n",
    "Let's have a look at a sample XML file.  Here, XML format is used to record mass-spectrometry data (`.mzML` files)."
   ]
  },
  {
   "cell_type": "code",
   "execution_count": 4,
   "metadata": {
    "vscode": {
     "languageId": "python"
    }
   },
   "outputs": [],
   "source": [
    "import json\n",
    "import requests\n",
    "import xmltodict"
   ]
  },
  {
   "attachments": {},
   "cell_type": "markdown",
   "metadata": {},
   "source": [
    "`xml_data` is a bytestring with the contents of the downloaded XML file:"
   ]
  },
  {
   "cell_type": "code",
   "execution_count": 5,
   "metadata": {
    "vscode": {
     "languageId": "python"
    }
   },
   "outputs": [
    {
     "data": {
      "text/plain": [
       "b'<?xml version=\"1.0\" encoding=\"ISO-8859-1\"?>\\n<indexedmzML xmlns=\"http://psi.hupo.org/ms/mzml\" xmlns:xsi=\"http://www.w3.org/2001/XMLSchema-instance\" xsi:schemaLocation=\"http://psi.hupo.org/ms/mzml http://psidev.info/files/ms/mzML/xsd/mzML1.1.1_idx.xsd\">\\n  <mzML xmlns=\"http://psi.hupo.org/ms/mzml\" xmlns:xsi=\"http://www.w3.org/2001/XMLSchema-instance\" xsi:schemaLocation=\"http://psi.hupo.org/ms/mzml http://psidev.info/files/ms/mzML/xsd/mzML1.1.0.xsd\" id=\"urn:lsid:psidev.info:mzML.instanceDocuments.tiny.pwiz\" version=\"1.1.0\">\\n    <cvList count=\"2\">\\n      <cv id=\"MS\" fullName=\"Proteomics Standards Initiative Mass Spectrometry Ontology\" version=\"2.33.1\" URI=\"http://psidev.cvs.sourceforge.net/*checkout*/psidev/psi/psi-ms/mzML/controlledVocabulary/psi-ms.obo\"/>\\n      <cv id=\"UO\" fullName=\"Unit Ontology\" version=\"11:02:2010\" URI=\"http://obo.cvs.sourceforge.net/*checkout*/obo/obo/ontology/phenotype/unit.obo\"/>\\n    </cvList>\\n    <fileDescription>\\n      <fileContent>\\n        <cvParam cvRef=\"MS\" accession=\"MS:1000580\" name=\"MSn spectrum\" value=\"\"/>\\n        <cvParam cvRef=\"MS\" accession=\"MS:1000127\" name=\"centroid spectrum\" value=\"\"/>\\n      </fileContent>\\n      <sourceFileList count=\"3\">\\n        <sourceFile id=\"tiny1.yep\" name=\"tiny1.yep\" location=\"file://F:/data/Exp01\">\\n          <cvParam cvRef=\"MS\" accession=\"MS:1000567\" name=\"Bruker/Agilent YEP file\" value=\"\"/>\\n          <cvParam cvRef=\"MS\" accession=\"MS:1000569\" name=\"SHA-1\" value=\"1234567890123456789012345678901234567890\"/>\\n          <cvParam cvRef=\"MS\" accession=\"MS:1000771\" name=\"Bruker/Agilent YEP nativeID format\" value=\"\"/>\\n        </sourceFile>\\n        <sourceFile id=\"tiny.wiff\" name=\"tiny.wiff\" location=\"file://F:/data/Exp01\">\\n          <cvParam cvRef=\"MS\" accession=\"MS:1000562\" name=\"ABI WIFF file\" value=\"\"/>\\n          <cvParam cvRef=\"MS\" accession=\"MS:1000569\" name=\"SHA-1\" value=\"2345678901234567890123456789012345678901\"/>\\n          <cvParam cvRef=\"MS\" accession=\"MS:1000770\" name=\"WIFF nativeID format\" value=\"\"/>\\n        </sourceFile>\\n        <sourceFile id=\"sf_para'"
      ]
     },
     "execution_count": 5,
     "metadata": {},
     "output_type": "execute_result"
    }
   ],
   "source": [
    "xml_url = \"https://raw.githubusercontent.com/ProteoWizard/pwiz/master/example_data/tiny.pwiz.1.1.1.mzML\"\n",
    "xml_data = requests.get(xml_url).content\n",
    "xml_data[:2048]"
   ]
  },
  {
   "cell_type": "code",
   "execution_count": 6,
   "metadata": {},
   "outputs": [],
   "source": [
    "#| hide\n",
    "test_eq(xml_data[:64], b'<?xml version=\"1.0\" encoding=\"ISO-8859-1\"?>\\n<indexedmzML xmlns=\"')"
   ]
  },
  {
   "attachments": {},
   "cell_type": "markdown",
   "metadata": {},
   "source": [
    "### Reading as a dictionary and converting to JSON\n",
    "Reading with `xmltodict` parser is fast and yields a python dictionary, which can be readily converted to JSON.  \n",
    "Among other things, it's easier to see the structure in a pretty-printed JSON:"
   ]
  },
  {
   "cell_type": "code",
   "execution_count": 7,
   "metadata": {},
   "outputs": [
    {
     "name": "stdout",
     "output_type": "stream",
     "text": [
      "{\n",
      "    \"indexedmzML\": {\n",
      "        \"xmlns\": \"http://psi.hupo.org/ms/mzml\",\n",
      "        \"xmlns:xsi\": \"http://www.w3.org/2001/XMLSchema-instance\",\n",
      "        \"xsi:schemaLocation\": \"http://psi.hupo.org/ms/mzml http://psidev.info/files/ms/mzML/xsd/mzML1.1.1_idx.xsd\",\n",
      "        \"mzML\": {\n",
      "            \"xmlns\": \"http://psi.hupo.org/ms/mzml\",\n",
      "            \"xmlns:xsi\": \"http://www.w3.org/2001/XMLSchema-instance\",\n",
      "            \"xsi:schemaLocation\": \"http://psi.hupo.org/ms/mzml http://psidev.info/files/ms/mzML/xsd/mzML1.1.0.xsd\",\n",
      "            \"id\": \"urn:lsid:psidev.info:mzML.instanceDocuments.tiny.pwiz\",\n",
      "            \"version\": \"1.1.0\",\n",
      "            \"cvList\": {\n",
      "                \"count\": \"2\",\n",
      "                \"cv\": [\n",
      "                    {\n",
      "                        \"id\": \"MS\",\n",
      "                        \"fullName\": \"Proteomics Standards Initiative Mass Spectrometry Ontology\",\n",
      "                        \"version\": \"2.33.1\",\n",
      "                        \"URI\": \"http://psidev.cvs.sourceforge.net/*checkout*/psidev/psi/psi-ms/mzML/controlledVocabulary/psi-ms.obo\"\n",
      "                    },\n",
      "                    {\n",
      "                        \"id\": \"UO\",\n",
      "                        \"fullName\": \"Unit Ontology\",\n",
      "                        \"version\": \"11:02:2010\",\n",
      "                        \"URI\": \"http://obo.cvs.sourceforge.net/*checkout*/obo/obo/ontology/phenotype/unit.obo\"\n",
      "                    }\n",
      "                ]\n",
      "            },\n",
      "            \"fileDescription\": {\n",
      "                \"fileContent\": {\n",
      "                    \"cvParam\": [\n",
      "                        {\n",
      "                            \"cvRef\": \"MS\",\n",
      "                            \"accession\": \"MS:1000580\",\n",
      "                            \"name\": \"MSn spectrum\",\n",
      "                            \"value\": \"\"\n",
      "                        },\n",
      "                        {\n",
      "                            \"cvRef\": \"MS\",\n",
      "                            \"accession\": \"MS:1000127\",\n",
      "                            \"name\": \"centroid spectrum\",\n",
      "                            \"value\": \"\"\n",
      "                        }\n",
      "                    ]\n",
      "                },\n",
      "                \"sourceFileList\": {\n",
      "     \n"
     ]
    }
   ],
   "source": [
    "xml_dict = xmltodict.parse(xml_data, attr_prefix=\"\")\n",
    "print(json.dumps(xml_dict, indent=4)[:2048])"
   ]
  },
  {
   "cell_type": "markdown",
   "metadata": {},
   "source": [
    "## Separating dicts and lists\n",
    "JSON format is a collection of `key:value` pairs, where the `value` can be one of:  \n",
    "- a single value (starts with \"`\"`\" or a number, ends with comma);\n",
    "- a list (starting with \"`[`\");\n",
    "- another branch (starts with \"`{`\").\n",
    "\n",
    "In most scenarios, dicts/single values will describe the run, and lists will be associated with repeated arrays of measurements.  It makes sense to pull the apart."
   ]
  },
  {
   "cell_type": "code",
   "execution_count": 8,
   "metadata": {},
   "outputs": [],
   "source": [
    "# to be continued..."
   ]
  },
  {
   "cell_type": "code",
   "execution_count": 9,
   "metadata": {
    "vscode": {
     "languageId": "python"
    }
   },
   "outputs": [],
   "source": [
    "#| export\n",
    "def foo(): pass"
   ]
  },
  {
   "cell_type": "code",
   "execution_count": 10,
   "metadata": {
    "vscode": {
     "languageId": "python"
    }
   },
   "outputs": [],
   "source": [
    "#| hide\n",
    "import nbdev; nbdev.nbdev_export()"
   ]
  }
 ],
 "metadata": {
  "kernelspec": {
   "display_name": "Python 3 (ipykernel)",
   "language": "python",
   "name": "python3"
  },
  "language_info": {
   "codemirror_mode": {
    "name": "ipython",
    "version": 3
   },
   "file_extension": ".py",
   "mimetype": "text/x-python",
   "name": "python",
   "nbconvert_exporter": "python",
   "pygments_lexer": "ipython3",
   "version": "3.10.9"
  }
 },
 "nbformat": 4,
 "nbformat_minor": 4
}
