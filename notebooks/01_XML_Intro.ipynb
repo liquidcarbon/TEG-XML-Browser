{
 "cells": [
  {
   "attachments": {},
   "cell_type": "markdown",
   "metadata": {},
   "source": [
    "# 1. Intro to XML\n",
    "\n",
    "> How to (and why) convert XML to JSON"
   ]
  },
  {
   "cell_type": "code",
   "execution_count": 1,
   "metadata": {
    "vscode": {
     "languageId": "python"
    }
   },
   "outputs": [],
   "source": [
    "#| hide\n",
    "%load_ext autoreload\n",
    "%autoreload 2"
   ]
  },
  {
   "cell_type": "code",
   "execution_count": 2,
   "metadata": {
    "vscode": {
     "languageId": "python"
    }
   },
   "outputs": [],
   "source": [
    "#| hide\n",
    "from fastcore.test import *\n",
    "from nbdev.showdoc import *"
   ]
  },
  {
   "attachments": {},
   "cell_type": "markdown",
   "metadata": {},
   "source": [
    "## XML\n",
    "XML is a markup language that is used to store and transport data. It is both human-readable and machine-readable.  It is flexible, allowing to define new tags and attributes as needed.  It is portable and platform-independent, and can be read as plain text or in a variety of editors and parsers.\n",
    "\n",
    "However, it's verbose, complex, hard to debug, and not queryable.  The goal of this project is to convert XMLs to (semi)relational data formats that can support diverse data warehousing and reporting solutions.\n",
    "\n",
    "In one approach, we would pursue converting the non-tabular XML data into something tabular such as CSV.  However, with 100+ fields and attributes, it is laborious to spell out all the possibly useful data elements.  We don't want to discard any information yet either.  Luckily, modern data ecosystems have been exposed to this problem for long enough, and there is a variety of solutions to query branched, semi-structured data.  Many SQL-like query engines and reporting tools (**including Tableau**) can work with JSON format, which will be the target of the initial XML processing work."
   ]
  },
  {
   "attachments": {},
   "cell_type": "markdown",
   "metadata": {},
   "source": [
    "## XML Example: Mass-Spectrometry\n",
    "\n",
    "Let's have a look at a sample XML file.  In this case, XML format is used to store mass-spectrometry data (`.mzML` files).  It has no relevance to TEG, except for the similarity in how the information is organized.  Just like in TEG files, there is the spectral data, and the data about the data (metadata).  We need both, but we need treat them differently."
   ]
  },
  {
   "cell_type": "code",
   "execution_count": 3,
   "metadata": {
    "vscode": {
     "languageId": "python"
    }
   },
   "outputs": [],
   "source": [
    "import json\n",
    "import requests\n",
    "import tempfile\n",
    "import xmltodict"
   ]
  },
  {
   "attachments": {},
   "cell_type": "markdown",
   "metadata": {},
   "source": [
    "Let's retrieve sample XML data from the internet using an HTTP request.  The result, `xml_data`, is a bytestring with the contents of the downloaded XML file:"
   ]
  },
  {
   "cell_type": "code",
   "execution_count": 4,
   "metadata": {
    "vscode": {
     "languageId": "python"
    }
   },
   "outputs": [
    {
     "data": {
      "text/plain": [
       "b'<?xml version=\"1.0\" encoding=\"ISO-8859-1\"?>\\n<indexedmzML xmlns=\"http://psi.hupo.org/ms/mzml\" xmlns:xsi=\"http://www.w3.org/2001/XMLSchema-instance\" xsi:schemaLocation=\"http://psi.hupo.org/ms/mzml http://psidev.info/files/ms/mzML/xsd/mzML1.1.1_idx.xsd\">\\n  <mzML xmlns=\"http://psi.hupo.org/ms/mzml\" xmlns:xsi=\"http://www.w3.org/2001/XMLSchema-instance\" xsi:schemaLocation=\"http://psi.hupo.org/ms/mzml http://psidev.info/files/ms/mzML/xsd/mzML1.1.0.xsd\" id=\"urn:lsid:psidev.info:mzML.instanceDocuments.tiny.pwiz\" version=\"1.1.0\">\\n    <cvList count=\"2\">\\n      <cv id=\"MS\" fullName=\"Proteomics Standards Initiative Mass Spectrometry Ontology\" version=\"2.33.1\" URI=\"http://psidev.cvs.sourceforge.net/*checkout*/psidev/psi/psi-ms/mzML/controlledVocabulary/psi-ms.obo\"/>\\n      <cv id=\"UO\" fullName=\"Unit Ontology\" version=\"11:02:2010\" URI=\"http://obo.cvs.sourceforge.net/*checkout*/obo/obo/ontology/phenotype/unit.obo\"/>\\n    </cvList>\\n    <fileDescription>\\n      <fileContent>\\n        <cvParam cvRef=\"MS\" accession=\"MS:1000580\" name=\"MSn spectrum\" value=\"\"/>\\n        <cvParam cvRef=\"MS\" accession=\"MS:1000127\" name=\"centroid spectrum\" value=\"\"/>\\n      </fileContent>\\n      <sourceFileList count=\"3\">\\n        <sourceFile id=\"tiny1.yep\" name=\"tiny1.yep\" location=\"file://F:/data/Exp01\">\\n          <cvParam cvRef=\"MS\" accession=\"MS:1000567\" name=\"Bruker/Agilent YEP file\" value=\"\"/>\\n          <cvParam cvRef=\"MS\" accession=\"MS:1000569\" name=\"SHA-1\" value=\"1234567890123456789012345678901234567890\"/>\\n          <cvParam cvRef=\"MS\" accession=\"MS:1000771\" name=\"Bruker/Agilent YEP nativeID format\" value=\"\"/>\\n        </sourceFile>\\n        <sourceFile id=\"tiny.wiff\" name=\"tiny.wiff\" location=\"file://F:/data/Exp01\">\\n          <cvParam cvRef=\"MS\" accession=\"MS:1000562\" name=\"ABI WIFF file\" value=\"\"/>\\n          <cvParam cvRef=\"MS\" accession=\"MS:1000569\" name=\"SHA-1\" value=\"2345678901234567890123456789012345678901\"/>\\n          <cvParam cvRef=\"MS\" accession=\"MS:1000770\" name=\"WIFF nativeID format\" value=\"\"/>\\n        </sourceFile>\\n        <sourceFile id=\"sf_para'"
      ]
     },
     "execution_count": 4,
     "metadata": {},
     "output_type": "execute_result"
    }
   ],
   "source": [
    "xml_url = \"https://raw.githubusercontent.com/ProteoWizard/pwiz/master/example_data/tiny.pwiz.1.1.1.mzML\"\n",
    "xml_data = requests.get(xml_url).content\n",
    "xml_data[:2048]"
   ]
  },
  {
   "cell_type": "code",
   "execution_count": 5,
   "metadata": {},
   "outputs": [],
   "source": [
    "#| hide\n",
    "test_eq(xml_data[:64], b'<?xml version=\"1.0\" encoding=\"ISO-8859-1\"?>\\n<indexedmzML xmlns=\"')"
   ]
  },
  {
   "attachments": {},
   "cell_type": "markdown",
   "metadata": {},
   "source": [
    "### Reading as a dictionary and converting to JSON\n",
    "Reading with `xmltodict` parser is fast and yields a python dictionary, which can be readily converted to JSON.  \n",
    "\n",
    "There are several reasons why JSON format should work for us to stage this data.  Among others, it's easier to see the structure in a pretty-printed JSON:"
   ]
  },
  {
   "cell_type": "code",
   "execution_count": 6,
   "metadata": {},
   "outputs": [
    {
     "name": "stdout",
     "output_type": "stream",
     "text": [
      "{\n",
      "    \"indexedmzML\": {\n",
      "        \"xmlns\": \"http://psi.hupo.org/ms/mzml\",\n",
      "        \"xmlns:xsi\": \"http://www.w3.org/2001/XMLSchema-instance\",\n",
      "        \"xsi:schemaLocation\": \"http://psi.hupo.org/ms/mzml http://psidev.info/files/ms/mzML/xsd/mzML1.1.1_idx.xsd\",\n",
      "        \"mzML\": {\n",
      "            \"xmlns\": \"http://psi.hupo.org/ms/mzml\",\n",
      "            \"xmlns:xsi\": \"http://www.w3.org/2001/XMLSchema-instance\",\n",
      "            \"xsi:schemaLocation\": \"http://psi.hupo.org/ms/mzml http://psidev.info/files/ms/mzML/xsd/mzML1.1.0.xsd\",\n",
      "            \"id\": \"urn:lsid:psidev.info:mzML.instanceDocuments.tiny.pwiz\",\n",
      "            \"version\": \"1.1.0\",\n",
      "            \"cvList\": {\n",
      "                \"count\": \"2\",\n",
      "                \"cv\": [\n",
      "                    {\n",
      "                        \"id\": \"MS\",\n",
      "                        \"fullName\": \"Proteomics Standards Initiative Mass Spectrometry Ontology\",\n",
      "                        \"version\": \"2.33.1\",\n",
      "                        \"URI\": \"http://psidev.cvs.sourceforge.net/*checkout*/psidev/psi/psi-ms/mzML/controlledVocabulary/psi-ms.obo\"\n",
      "                    },\n",
      "                    {\n",
      "                        \"id\": \"UO\",\n",
      "                        \"fullName\": \"Unit Ontology\",\n",
      "                        \"version\": \"11:02:2010\",\n",
      "                        \"URI\": \"http://obo.cvs.sourceforge.net/*checkout*/obo/obo/ontology/phenotype/unit.obo\"\n",
      "                    }\n",
      "                ]\n",
      "            },\n",
      "            \"fileDescription\": {\n",
      "                \"fileContent\": {\n",
      "                    \"cvParam\": [\n",
      "                        {\n",
      "                            \"cvRef\": \"MS\",\n",
      "                            \"accession\": \"MS:1000580\",\n",
      "                            \"name\": \"MSn spectrum\",\n",
      "                            \"value\": \"\"\n",
      "                        },\n",
      "                        {\n",
      "                            \"cvRef\": \"MS\",\n",
      "                            \"accession\": \"MS:1000127\",\n",
      "                            \"name\": \"centroid spectrum\",\n",
      "                            \"value\": \"\"\n",
      "                        }\n",
      "                    ]\n",
      "                },\n",
      "                \"sourceFileList\": {\n",
      "     \n"
     ]
    }
   ],
   "source": [
    "xml_dict = xmltodict.parse(xml_data, attr_prefix=\"\")\n",
    "print(json.dumps(xml_dict, indent=4)[:2048])"
   ]
  },
  {
   "cell_type": "markdown",
   "metadata": {},
   "source": [
    "JSON data can be saved as a file:"
   ]
  },
  {
   "cell_type": "code",
   "execution_count": 7,
   "metadata": {},
   "outputs": [],
   "source": [
    "with tempfile.NamedTemporaryFile(\"w\", delete=False) as tf:\n",
    "    tf.write(json.dumps(xml_dict, indent=4))"
   ]
  },
  {
   "cell_type": "markdown",
   "metadata": {},
   "source": [
    "And loaded from a file:"
   ]
  },
  {
   "cell_type": "code",
   "execution_count": 8,
   "metadata": {},
   "outputs": [
    {
     "name": "stdout",
     "output_type": "stream",
     "text": [
      "{\n",
      "    \"indexedmzML\": {\n",
      "        \"xmlns\": \"http://psi.hupo.org/ms/mzml\",\n",
      "        \"xmlns:xsi\": \"http://www.w3.org/2001/XMLSchema-in\n"
     ]
    }
   ],
   "source": [
    "with open(tf.name) as f:\n",
    "    print(f.read(128))"
   ]
  },
  {
   "cell_type": "markdown",
   "metadata": {},
   "source": [
    "## Querying Non-Tabular Data: DuckDB\n",
    "\n",
    "DuckDB is a powerful, performant in-memory, in-process analytical database.  We can use it to mimick a data warehousing environment, and write queries against JSON files directly.  Tableau also can use JSON files as data sources."
   ]
  },
  {
   "cell_type": "code",
   "execution_count": 9,
   "metadata": {},
   "outputs": [],
   "source": [
    "import duckdb"
   ]
  },
  {
   "cell_type": "markdown",
   "metadata": {},
   "source": [
    "DuckDB allows to query JSON files directly:"
   ]
  },
  {
   "cell_type": "code",
   "execution_count": 10,
   "metadata": {},
   "outputs": [
    {
     "data": {
      "text/html": [
       "<div>\n",
       "<style scoped>\n",
       "    .dataframe tbody tr th:only-of-type {\n",
       "        vertical-align: middle;\n",
       "    }\n",
       "\n",
       "    .dataframe tbody tr th {\n",
       "        vertical-align: top;\n",
       "    }\n",
       "\n",
       "    .dataframe thead th {\n",
       "        text-align: right;\n",
       "    }\n",
       "</style>\n",
       "<table border=\"1\" class=\"dataframe\">\n",
       "  <thead>\n",
       "    <tr style=\"text-align: right;\">\n",
       "      <th></th>\n",
       "      <th>indexedmzML</th>\n",
       "    </tr>\n",
       "  </thead>\n",
       "  <tbody>\n",
       "    <tr>\n",
       "      <th>0</th>\n",
       "      <td>{'xmlns': 'http://psi.hupo.org/ms/mzml', 'xmln...</td>\n",
       "    </tr>\n",
       "  </tbody>\n",
       "</table>\n",
       "</div>"
      ],
      "text/plain": [
       "                                         indexedmzML\n",
       "0  {'xmlns': 'http://psi.hupo.org/ms/mzml', 'xmln..."
      ]
     },
     "execution_count": 10,
     "metadata": {},
     "output_type": "execute_result"
    }
   ],
   "source": [
    "con = duckdb.connect()\n",
    "q = f\"\"\"\n",
    "SELECT * FROM read_json_auto(\"{tf.name}\")\n",
    "\"\"\"\n",
    "con.execute(q).df()"
   ]
  },
  {
   "cell_type": "markdown",
   "metadata": {},
   "source": [
    "Let's retrieve a few specific element: a string, a nested dictionary, and a list:"
   ]
  },
  {
   "cell_type": "code",
   "execution_count": 11,
   "metadata": {},
   "outputs": [
    {
     "data": {
      "text/html": [
       "<div>\n",
       "<style scoped>\n",
       "    .dataframe tbody tr th:only-of-type {\n",
       "        vertical-align: middle;\n",
       "    }\n",
       "\n",
       "    .dataframe tbody tr th {\n",
       "        vertical-align: top;\n",
       "    }\n",
       "\n",
       "    .dataframe thead th {\n",
       "        text-align: right;\n",
       "    }\n",
       "</style>\n",
       "<table border=\"1\" class=\"dataframe\">\n",
       "  <thead>\n",
       "    <tr style=\"text-align: right;\">\n",
       "      <th></th>\n",
       "      <th>run_timestamp</th>\n",
       "      <th>scan_settings</th>\n",
       "      <th>data_array</th>\n",
       "    </tr>\n",
       "  </thead>\n",
       "  <tbody>\n",
       "    <tr>\n",
       "      <th>0</th>\n",
       "      <td>2007-06-27T15:23:45.00035</td>\n",
       "      <td>{'count': 1, 'scanSettings': {'id': 'tiny_x002...</td>\n",
       "      <td>[{'encodedLength': 160, 'dataProcessingRef': '...</td>\n",
       "    </tr>\n",
       "  </tbody>\n",
       "</table>\n",
       "</div>"
      ],
      "text/plain": [
       "               run_timestamp  \\\n",
       "0  2007-06-27T15:23:45.00035   \n",
       "\n",
       "                                       scan_settings  \\\n",
       "0  {'count': 1, 'scanSettings': {'id': 'tiny_x002...   \n",
       "\n",
       "                                          data_array  \n",
       "0  [{'encodedLength': 160, 'dataProcessingRef': '...  "
      ]
     },
     "execution_count": 11,
     "metadata": {},
     "output_type": "execute_result"
    }
   ],
   "source": [
    "q = f\"\"\"\n",
    "SELECT\n",
    "  indexedmzML.mzML.run.startTimeStamp AS run_timestamp\n",
    "  ,indexedmzML.mzML.scanSettingsList AS scan_settings\n",
    "  ,indexedmzML.mzML.run.chromatogramList.chromatogram[1].binaryDataArrayList.binaryDataArray AS data_array\n",
    "FROM read_json_auto('{tf.name}')\n",
    "\"\"\"\n",
    "df = con.execute(q).df()\n",
    "df"
   ]
  },
  {
   "cell_type": "code",
   "execution_count": 12,
   "metadata": {},
   "outputs": [
    {
     "data": {
      "text/plain": [
       "0    {'count': 1, 'scanSettings': {'id': 'tiny_x002...\n",
       "Name: scan_settings, dtype: object"
      ]
     },
     "execution_count": 12,
     "metadata": {},
     "output_type": "execute_result"
    }
   ],
   "source": [
    "df.scan_settings"
   ]
  },
  {
   "cell_type": "code",
   "execution_count": 13,
   "metadata": {},
   "outputs": [
    {
     "data": {
      "text/plain": [
       "['AAAAAAAAAAAAAAAAAADwPwAAAAAAAABAAAAAAAAACEAAAAAAAAAQQAAAAAAAABRAAAAAAAAAGEAAAAAAAAAcQAAAAAAAACBAAAAAAAAAIkAAAAAAAAAkQAAAAAAAACZAAAAAAAAAKEAAAAAAAAAqQAAAAAAAACxA',\n",
       " 'AAAAAAAALkAAAAAAAAAsQAAAAAAAACpAAAAAAAAAKEAAAAAAAAAmQAAAAAAAACRAAAAAAAAAIkAAAAAAAAAgQAAAAAAAABxAAAAAAAAAGEAAAAAAAAAUQAAAAAAAABBAAAAAAAAACEAAAAAAAAAAQAAAAAAAAPA/']"
      ]
     },
     "execution_count": 13,
     "metadata": {},
     "output_type": "execute_result"
    }
   ],
   "source": [
    "[data[\"binary\"] for data in df.data_array[0]]"
   ]
  },
  {
   "cell_type": "markdown",
   "metadata": {},
   "source": [
    "Alternatively, the lists can be unnested right in the query.  In this case, the first two data elements are exactly the same, illustrating **one-to-many** relationship between run metadata and the actual data."
   ]
  },
  {
   "cell_type": "code",
   "execution_count": 14,
   "metadata": {},
   "outputs": [
    {
     "data": {
      "text/html": [
       "<div>\n",
       "<style scoped>\n",
       "    .dataframe tbody tr th:only-of-type {\n",
       "        vertical-align: middle;\n",
       "    }\n",
       "\n",
       "    .dataframe tbody tr th {\n",
       "        vertical-align: top;\n",
       "    }\n",
       "\n",
       "    .dataframe thead th {\n",
       "        text-align: right;\n",
       "    }\n",
       "</style>\n",
       "<table border=\"1\" class=\"dataframe\">\n",
       "  <thead>\n",
       "    <tr style=\"text-align: right;\">\n",
       "      <th></th>\n",
       "      <th>run_timestamp</th>\n",
       "      <th>scan_settings</th>\n",
       "      <th>data</th>\n",
       "    </tr>\n",
       "  </thead>\n",
       "  <tbody>\n",
       "    <tr>\n",
       "      <th>0</th>\n",
       "      <td>2007-06-27T15:23:45.00035</td>\n",
       "      <td>{'count': 1, 'scanSettings': {'id': 'tiny_x002...</td>\n",
       "      <td>AAAAAAAAAAAAAAAAAADwPwAAAAAAAABAAAAAAAAACEAAAA...</td>\n",
       "    </tr>\n",
       "    <tr>\n",
       "      <th>1</th>\n",
       "      <td>2007-06-27T15:23:45.00035</td>\n",
       "      <td>{'count': 1, 'scanSettings': {'id': 'tiny_x002...</td>\n",
       "      <td>AAAAAAAALkAAAAAAAAAsQAAAAAAAACpAAAAAAAAAKEAAAA...</td>\n",
       "    </tr>\n",
       "  </tbody>\n",
       "</table>\n",
       "</div>"
      ],
      "text/plain": [
       "               run_timestamp  \\\n",
       "0  2007-06-27T15:23:45.00035   \n",
       "1  2007-06-27T15:23:45.00035   \n",
       "\n",
       "                                       scan_settings  \\\n",
       "0  {'count': 1, 'scanSettings': {'id': 'tiny_x002...   \n",
       "1  {'count': 1, 'scanSettings': {'id': 'tiny_x002...   \n",
       "\n",
       "                                                data  \n",
       "0  AAAAAAAAAAAAAAAAAADwPwAAAAAAAABAAAAAAAAACEAAAA...  \n",
       "1  AAAAAAAALkAAAAAAAAAsQAAAAAAAACpAAAAAAAAAKEAAAA...  "
      ]
     },
     "execution_count": 14,
     "metadata": {},
     "output_type": "execute_result"
    }
   ],
   "source": [
    "q = f\"\"\"\n",
    "SELECT\n",
    "  indexedmzML.mzML.run.startTimeStamp AS run_timestamp\n",
    "  ,indexedmzML.mzML.scanSettingsList AS scan_settings\n",
    "  ,UNNEST(indexedmzML.mzML.run.chromatogramList.chromatogram[1].binaryDataArrayList.binaryDataArray).binary AS data\n",
    "FROM read_json_auto('{tf.name}')\n",
    "\"\"\"\n",
    "df = con.execute(q).df()\n",
    "df"
   ]
  },
  {
   "cell_type": "markdown",
   "metadata": {},
   "source": [
    "## Separating dicts and lists\n",
    "JSON format is a collection of `key:value` pairs, where the `value` can be one of:  \n",
    "- a single value (starts with \"`\"`\" or a number, ends with comma);  \n",
    "- a list (starting with \"`[`\");  \n",
    "- another branch (starts with \"`{`\").  \n",
    "\n",
    "In most scenarios, dicts/single values will describe the run, and lists will be associated with repeated arrays of measurements.  It makes sense to pull them apart - for both data management and performance reasons (we eventually intend to read hundreds of thousands of files!)"
   ]
  },
  {
   "cell_type": "code",
   "execution_count": 15,
   "metadata": {},
   "outputs": [],
   "source": [
    "# to be continued..."
   ]
  },
  {
   "cell_type": "code",
   "execution_count": 16,
   "metadata": {
    "vscode": {
     "languageId": "python"
    }
   },
   "outputs": [],
   "source": [
    "#| hide\n",
    "import nbdev; nbdev.nbdev_export()"
   ]
  }
 ],
 "metadata": {
  "kernelspec": {
   "display_name": "Python 3 (ipykernel)",
   "language": "python",
   "name": "python3"
  },
  "language_info": {
   "codemirror_mode": {
    "name": "ipython",
    "version": 3
   },
   "file_extension": ".py",
   "mimetype": "text/x-python",
   "name": "python",
   "nbconvert_exporter": "python",
   "pygments_lexer": "ipython3",
   "version": "3.10.9"
  }
 },
 "nbformat": 4,
 "nbformat_minor": 4
}
