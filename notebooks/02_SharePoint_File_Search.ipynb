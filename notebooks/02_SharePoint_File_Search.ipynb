{
 "cells": [
  {
   "cell_type": "markdown",
   "id": "4fe69630-1357-4a45-b522-9f8e399d979f",
   "metadata": {},
   "source": [
    "# 2. Sharepoint File Search\n",
    "\n",
    "> Using Office365 API to find XMLs on SharePoint"
   ]
  },
  {
   "cell_type": "code",
   "execution_count": 1,
   "id": "d67928ef-6a80-4914-b0ee-bd0fa35a628b",
   "metadata": {},
   "outputs": [
    {
     "data": {
      "text/plain": [
       "'created: 2023-04-27 08:48'"
      ]
     },
     "execution_count": 1,
     "metadata": {},
     "output_type": "execute_result"
    }
   ],
   "source": [
    "#| code-fold: true\n",
    "from datetime import datetime; datetime.now().strftime(\"created: %F %H:%M\")"
   ]
  },
  {
   "cell_type": "markdown",
   "id": "36bce061-1db7-4746-89a6-b47b3c6d2a49",
   "metadata": {},
   "source": [
    "## SharePoint\n",
    "\n",
    "Our organization uses SharePoint as the main file repository for customer data.  \n",
    "In addition to handling local files, it will be useful to accommodate the following use cases:\n",
    "- scan a given SharePoint folder for relevant XML files and record **unique** file GUIDs  \n",
    "- scan and download unmodified XMLs to local storage  \n",
    "- scan, parse, and download processed data as JSON files  "
   ]
  },
  {
   "cell_type": "code",
   "execution_count": 2,
   "id": "e1a8b24c-4ce5-4269-a17e-fa10f13c1020",
   "metadata": {},
   "outputs": [],
   "source": [
    "#| hide\n",
    "%load_ext autoreload\n",
    "%autoreload 2"
   ]
  },
  {
   "cell_type": "code",
   "execution_count": 3,
   "id": "0ab82c45-c042-40a8-a9dd-e81ae9a76e0a",
   "metadata": {},
   "outputs": [],
   "source": [
    "#| default_exp io"
   ]
  },
  {
   "cell_type": "code",
   "execution_count": 4,
   "id": "ce534ce5-868e-4348-aaf6-155542a1693d",
   "metadata": {},
   "outputs": [],
   "source": [
    "#| hide\n",
    "from fastcore.test import *\n",
    "from nbdev.showdoc import *"
   ]
  },
  {
   "cell_type": "markdown",
   "id": "d80fbfd8-81e5-4f3a-b20b-e29403e19eb1",
   "metadata": {},
   "source": [
    "## Connect to SharePoint using Office365 API with secure `.env` Credentials\n",
    "To use sensitive data such as passwords securely, it is common to place the secrets into environment variable (`.env`) file, which is excluded from code repositories. Read more: [python-dotenv](https://github.com/theskumar/python-dotenv)"
   ]
  },
  {
   "cell_type": "code",
   "execution_count": 5,
   "id": "0bae7b9b-57c8-42af-8acc-a0b5df01ce9c",
   "metadata": {},
   "outputs": [],
   "source": [
    "from dotenv import dotenv_values\n",
    "from office365.runtime.auth.user_credential import UserCredential\n",
    "from office365.runtime.client_request_exception import ClientRequestException\n",
    "from office365.sharepoint.client_context import ClientContext\n",
    "import io\n",
    "import pandas as pd"
   ]
  },
  {
   "cell_type": "code",
   "execution_count": 6,
   "id": "c13b462a-75d0-4766-bca4-5409216c8228",
   "metadata": {},
   "outputs": [],
   "source": [
    "config = dotenv_values(\"../.env\")\n",
    "sharepoint_url = config[\"SHAREPOINT_URL\"]\n",
    "credentials = UserCredential(config[\"USERNAME\"], config[\"PASSWORD\"])\n",
    "ctx = ClientContext(sharepoint_url).with_credentials(credentials)"
   ]
  },
  {
   "cell_type": "markdown",
   "id": "4e4543b9-b12f-4cc7-ad10-b3798a7b4b77",
   "metadata": {},
   "source": [
    "### Traverse files and folders and find XML files "
   ]
  },
  {
   "cell_type": "code",
   "execution_count": 7,
   "id": "7e3ed535-7bbd-47fe-aecf-24ccbeeaedf9",
   "metadata": {},
   "outputs": [
    {
     "name": "stdout",
     "output_type": "stream",
     "text": [
      "CPU times: user 3.01 s, sys: 46.7 ms, total: 3.06 s\n",
      "Wall time: 19.4 s\n"
     ]
    }
   ],
   "source": [
    "%%time\n",
    "xml_files = {}\n",
    "def enum_folder(parent_folder, folder_action, file_limit=None):\n",
    "    \"\"\"Recursively traverse files and folders.\"\"\"\n",
    "    parent_folder.expand([\"Files\", \"Folders\"]).get().execute_query()\n",
    "    folder_action(parent_folder)\n",
    "    \n",
    "    for file in parent_folder.files:\n",
    "          if file.name.endswith(\".xml\"):\n",
    "              xml_files[file.serverRelativeUrl] = file.unique_id\n",
    "    if file_limit:\n",
    "        if len(xml_files) >= file_limit:\n",
    "            return\n",
    "        else:\n",
    "            for folder in parent_folder.folders:\n",
    "                enum_folder(folder, folder_action, file_limit=file_limit)\n",
    "\n",
    "\n",
    "def folder_action(folder):\n",
    "    \"\"\"Record some data while iterating on folders.\"\"\"\n",
    "    # print(len(xml_files), folder.serverRelativeUrl, end='\\r')\n",
    "    return\n",
    "\n",
    "\n",
    "root_folder = ctx.web.get_folder_by_server_relative_url(config[\"STARTING_FOLDER\"]).get().execute_query()\n",
    "enum_folder(root_folder, folder_action, file_limit=1000)"
   ]
  },
  {
   "cell_type": "markdown",
   "id": "2055bd57-9cdb-4d7d-b216-164f0ea6e007",
   "metadata": {},
   "source": [
    "### Inferring the files are relevant from file name"
   ]
  },
  {
   "cell_type": "code",
   "execution_count": 8,
   "id": "605e418f-aa73-49df-809f-60f7a5632a8d",
   "metadata": {},
   "outputs": [
    {
     "data": {
      "text/plain": [
       "Cartridge_PAT                     899\n",
       "Cartridge_WET                     135\n",
       "CalibrationData.xml                 4\n",
       "PersistedStatus.xml                 3\n",
       "ConfigurationSettings.xml           3\n",
       "Users.xml                           3\n",
       "Patients.xml                        3\n",
       "RegistrySettings.xml                2\n",
       "NormalRangesLibrary.xml             2\n",
       "CartridgeLibrary.xml                1\n",
       "MicrofluidicsScriptLibrary.xml      1\n",
       "dtype: int64"
      ]
     },
     "execution_count": 8,
     "metadata": {},
     "output_type": "execute_result"
    }
   ],
   "source": [
    "prefixes = []\n",
    "for k in xml_files:\n",
    "  prefix = k.split('/')[-1].split('-')[0]\n",
    "  prefixes.append(prefix)\n",
    "pd.Series(prefixes).value_counts()"
   ]
  },
  {
   "cell_type": "markdown",
   "id": "47cb7a16-5586-417c-a8a4-85d076171343",
   "metadata": {},
   "source": [
    "## Get file content by SharePoint GUID"
   ]
  },
  {
   "cell_type": "code",
   "execution_count": 9,
   "id": "39dbc426-333b-47b4-aa58-139cabf29798",
   "metadata": {},
   "outputs": [
    {
     "data": {
      "text/plain": [
       "'66e6a98a-3308-4a83-bc38-00818e953985'"
      ]
     },
     "execution_count": 9,
     "metadata": {},
     "output_type": "execute_result"
    }
   ],
   "source": [
    "sharepoint_guid = xml_files[list(xml_files.keys())[3]]\n",
    "sharepoint_guid"
   ]
  },
  {
   "cell_type": "code",
   "execution_count": 10,
   "id": "9cb6d637-62f6-472a-a3fd-36bdb780afe4",
   "metadata": {},
   "outputs": [
    {
     "name": "stdout",
     "output_type": "stream",
     "text": [
      "read 1,342,694 bytes from file 66e6a98a-3308-4a83-bc38-00818e953985\n",
      "\n",
      "b'<!--\\r\\nFileCount=3\\r\\nFileOffset1=0000000120\\r\\nFileOffset2=0000010692\\r\\nFileOffset3=0001340966\\r\\nFileOffset4=0001342694\\r\\n-->\\r\\n<?xml version=\"1.0\" encoding=\"utf-8\"?>\\r\\n<Cartridge xmlns:xsi=\"http://www.w3.org/2001/XMLSchema-instance\" xmlns:xsd=\"http://www.w3.org/2001/XMLSchema\" SchemaVersion=\"1\" AllowTemperatureChange=\"false\" BarcodeExpirationDate=\"2024-08-20T00:00:00\" CalculatedExpirationDate=\"2024-08-31T00:00:00\" CartridgeN'\n"
     ]
    }
   ],
   "source": [
    "with io.BytesIO() as bytestream:\n",
    "    ctx.web.get_file_by_id(sharepoint_guid).download(bytestream).execute_query()\n",
    "    print(f\"read {bytestream.tell():,d} bytes from file {sharepoint_guid}\\n\")\n",
    "    bytestream.seek(0)\n",
    "    print(bytestream.read(420))"
   ]
  },
  {
   "cell_type": "markdown",
   "id": "3493e8d0-1b5d-4dd1-809b-b65531a064ef",
   "metadata": {},
   "source": [
    "## Sandbox"
   ]
  },
  {
   "cell_type": "code",
   "execution_count": 11,
   "id": "21661ee3-7912-47f4-8b23-04e31f2e8dd2",
   "metadata": {},
   "outputs": [],
   "source": [
    "#| hide\n",
    "import nbdev; nbdev.nbdev_export()"
   ]
  }
 ],
 "metadata": {
  "kernelspec": {
   "display_name": "Python 3 (ipykernel)",
   "language": "python",
   "name": "python3"
  },
  "language_info": {
   "codemirror_mode": {
    "name": "ipython",
    "version": 3
   },
   "file_extension": ".py",
   "mimetype": "text/x-python",
   "name": "python",
   "nbconvert_exporter": "python",
   "pygments_lexer": "ipython3",
   "version": "3.10.9"
  }
 },
 "nbformat": 4,
 "nbformat_minor": 5
}
